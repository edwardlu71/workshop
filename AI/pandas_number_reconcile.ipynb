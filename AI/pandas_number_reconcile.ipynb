{
 "cells": [
  {
   "cell_type": "markdown",
   "metadata": {},
   "source": [
    "# Reconciliation of Text/Numerical Mixed Data\n",
    "\n",
    "Author [Edward Lu](https://github.com/edwardlu71/notebooks)\n",
    "Date: Oct 2020"
   ]
  },
  {
   "cell_type": "code",
   "execution_count": null,
   "metadata": {
    "scrolled": true
   },
   "outputs": [],
   "source": [
    "from IPython.display import display, HTML\n",
    "import pyodbc\n",
    "import pandas as pd\n",
    "import numpy as np\n",
    "import sqlalchemy\n",
    "from sqlalchemy.ext.automap import automap_base\n",
    "from sqlalchemy.orm import Session"
   ]
  },
  {
   "cell_type": "code",
   "execution_count": null,
   "metadata": {},
   "outputs": [],
   "source": [
    "# load sql query\n",
    "from lib.edkit import constants\n",
    "c = constants.EdkitConstants()\n",
    "c.load_config_from_file()\n",
    "sqls = c.CONFIG_DICT['sql']"
   ]
  },
  {
   "cell_type": "code",
   "execution_count": null,
   "metadata": {},
   "outputs": [],
   "source": [
    "#query = sqls[\"bondsquotesrt\"]\n",
    "query = sqls[\"bondsquoteshist\"]\n",
    "#query = sqls[\"fxrates\"]\n",
    "#query = sqls[\"spotrates\"]\n",
    "#query = sqls[\"floatingrates\"]\n",
    "#query = sqls[\"floatingrates\"]\n",
    "tolerance=0.01  # percent. 0.01 means 0.01%\n",
    "tolerance_type = \"percent\"\n",
    "selected=None"
   ]
  },
  {
   "cell_type": "code",
   "execution_count": null,
   "metadata": {},
   "outputs": [],
   "source": [
    "# sybase\n",
    "server1 = \"server_a\"\n",
    "server2 = \"server_b\"\n",
    "uri1 = f\"DRIVER=FreeTDS;SERVER={server1};PORT=5555;DATABASE=Data;UID=tester;PWD=password;\"\n",
    "uri2 = f\"DRIVER=FreeTDS;SERVER={server2};PORT=5555;DATABASE=Data;UID=tester;PWD=password;\"\n",
    "\n",
    "def creator1():\n",
    "    return pyodbc.connect(uri1)\n",
    "def creator2():\n",
    "    return pyodbc.connect(uri2)\n",
    "\n",
    "engine1 = sqlalchemy.create_engine(\"sybase+pyodbc://\", creator=creator1)\n",
    "engine2 = sqlalchemy.create_engine(\"sybase+pyodbc://\", creator=creator2)"
   ]
  },
  {
   "cell_type": "code",
   "execution_count": null,
   "metadata": {},
   "outputs": [],
   "source": [
    "df1 = pd.read_sql_query(query, con=engine1)\n",
    "df2 = pd.read_sql_query(query, con=engine2)\n",
    "display(df1)\n",
    "display(df2)"
   ]
  },
  {
   "cell_type": "code",
   "execution_count": null,
   "metadata": {},
   "outputs": [],
   "source": [
    "# first column of data frame can't have duplication\n",
    "df1.iloc[:,0].duplicated().any() or df2.iloc[:,0].duplicated().any()"
   ]
  },
  {
   "cell_type": "code",
   "execution_count": null,
   "metadata": {},
   "outputs": [],
   "source": [
    "# All rows in df1 that do not have a match in df2\n",
    "df1_only = df1[~df1.iloc[:,0].isin(df2.iloc[:,0])].reset_index(drop=True)\n",
    "df2_only = df2[~df2.iloc[:,0].isin(df1.iloc[:,0])].reset_index(drop=True)"
   ]
  },
  {
   "cell_type": "code",
   "execution_count": null,
   "metadata": {},
   "outputs": [],
   "source": [
    "df_only = pd.DataFrame({\"Sample_x\": df1_only.iloc[:, 0], \"Sample_y\": df2_only.iloc[:, 0]})"
   ]
  },
  {
   "cell_type": "code",
   "execution_count": null,
   "metadata": {},
   "outputs": [],
   "source": [
    "display(df_only)"
   ]
  },
  {
   "cell_type": "code",
   "execution_count": null,
   "metadata": {},
   "outputs": [],
   "source": [
    "# all rows in df1 that are existing in the index (column 1) list of df2 \n",
    "df1_intersection = df1[~df1.iloc[:,0].isin(list(df1_only.iloc[:,0]))]\n",
    "df1_intersection = df1_intersection.sort_values(by=[df1_intersection.columns[0]]).reset_index(drop=True)\n",
    "#df1_intersection.reset_index(drop=True, inplace=True)\n",
    "df2_intersection = df2[~df2.iloc[:,0].isin(list(df2_only.iloc[:,0]))]\n",
    "df2_intersection = df2_intersection.sort_values(by=[df2_intersection.columns[0]]).reset_index(drop=True)\n",
    "#df2_intersection.reset_index(drop=True, inplace=True)"
   ]
  },
  {
   "cell_type": "code",
   "execution_count": null,
   "metadata": {},
   "outputs": [],
   "source": [
    "df1_intersection.columns[0]"
   ]
  },
  {
   "cell_type": "code",
   "execution_count": null,
   "metadata": {},
   "outputs": [],
   "source": [
    "if selected is None:  # tolerance comparison is applied to all numerical fields\n",
    "    df1_intersection_abc = df1_intersection.select_dtypes(exclude=['float64', 'int64'])\n",
    "    df1_intersection_123 = df1_intersection.select_dtypes(include=['float64', 'int64'])\n",
    "    df2_intersection_abc = df2_intersection.select_dtypes(exclude=['float64', 'int64'])\n",
    "    df2_intersection_123 = df2_intersection.select_dtypes(include=['float64', 'int64'])\n",
    "else:  # tolerance comparison is applied to selected numerical fields\n",
    "    df1_intersection_abc = df1_intersection[df1_intersection.columns[~df1_intersection.columns.isin(selected)]]\n",
    "    df1_intersection_123 = df1_intersection[df1_intersection.columns[df1_intersection.columns.isin(selected)]]\n",
    "    df2_intersection_abc = df2_intersection[df2_intersection.columns[~df2_intersection.columns.isin(selected)]]\n",
    "    df2_intersection_123 = df2_intersection[df2_intersection.columns[df2_intersection.columns.isin(selected)]]\n",
    "    \n",
    "df1_intersection_abc.info(), df1_intersection_123.info()"
   ]
  },
  {
   "cell_type": "code",
   "execution_count": null,
   "metadata": {},
   "outputs": [],
   "source": [
    "# index of difference of abc\n",
    "index_diff_abc = np.where(df1_intersection_abc != df2_intersection_abc)\n",
    "# prepare mask of abc\n",
    "np_mask_abc = np.full(df1_intersection_abc.shape, False)\n",
    "np_mask_abc[:, 0] = True\n",
    "np_mask_abc[index_diff_abc] = True\n",
    "\n",
    "# index of difference of 123\n",
    "if tolerance_type == \"percent\":\n",
    "    index_diff_123 = np.where( abs((df1_intersection_123 - df2_intersection_123)*100/df2_intersection_123) > tolerance )\n",
    "else:\n",
    "    index_diff_123 = np.where( abs(df1_intersection_123 - df2_intersection_123) > tolerance )\n",
    "# prepare mask of 123\n",
    "np_mask_123 = np.full(df1_intersection_123.shape, False)\n",
    "np_mask_123[index_diff_123] = True\n",
    "\n",
    "np_mask = np.concatenate((np_mask_abc, np_mask_123), axis=1)\n",
    "\n",
    "np_mask"
   ]
  },
  {
   "cell_type": "code",
   "execution_count": null,
   "metadata": {},
   "outputs": [],
   "source": [
    "# re-org the fields, strings left, numericals right\n",
    "df1_intersection = pd.concat([df1_intersection_abc, df1_intersection_123], axis=1)\n",
    "df2_intersection = pd.concat([df2_intersection_abc, df2_intersection_123], axis=1)"
   ]
  },
  {
   "cell_type": "code",
   "execution_count": null,
   "metadata": {},
   "outputs": [],
   "source": [
    "masked_diff = pd.merge(df1_intersection.where(np_mask), df2_intersection.where(np_mask), how='outer', indicator=True)\n",
    "df1_masked_diff = masked_diff[masked_diff['_merge'] == 'left_only'].drop(columns=['_merge']).reset_index(drop=True)\n",
    "df2_masked_diff = masked_diff[masked_diff['_merge'] == 'right_only'].drop(columns=['_merge']).reset_index(drop=True)\n",
    "masked_diff = pd.merge(df1_masked_diff, df2_masked_diff, on = [df1_masked_diff.columns[0]]).dropna(axis='columns', how='all')\n",
    "\n",
    "if masked_diff.size > 0:\n",
    "    X = masked_diff.columns[1:][:len(masked_diff.columns[1:]) // 2]\n",
    "    Y = masked_diff.columns[1:][len(masked_diff.columns[1:]) // 2:]\n",
    "    ordered_columns = [masked_diff.columns[0]] + [i for p in zip(X, Y) for i in p]\n",
    "    df_diff = masked_diff[ordered_columns]\n",
    "else:\n",
    "    df_diff = pd.DataFrame([])\n",
    "df_diff"
   ]
  },
  {
   "cell_type": "code",
   "execution_count": null,
   "metadata": {},
   "outputs": [],
   "source": [
    "# conclusion\n",
    "if len(df1_only) + len(df2_only) + len(df_diff) > 0:\n",
    "    print(f\"df1_only = {len(df1_only)}\")\n",
    "    print(f\"df2_only = {len(df2_only)}\")\n",
    "    if len(df_diff) > 0: \n",
    "        diffcol_num = (df_diff.shape[1] - 1)//2\n",
    "    else:\n",
    "        diffcol_num = 0\n",
    "    print(f\"df_diff = {len(df_diff)} records on {diffcol_num} columns\")\n",
    "else:\n",
    "    print(\"df1 and df2 are identical\")"
   ]
  }
 ],
 "metadata": {
  "kernelspec": {
   "display_name": "Python 3",
   "language": "python",
   "name": "python3"
  },
  "language_info": {
   "codemirror_mode": {
    "name": "ipython",
    "version": 3
   },
   "file_extension": ".py",
   "mimetype": "text/x-python",
   "name": "python",
   "nbconvert_exporter": "python",
   "pygments_lexer": "ipython3",
   "version": "3.8.5"
  }
 },
 "nbformat": 4,
 "nbformat_minor": 4
}
