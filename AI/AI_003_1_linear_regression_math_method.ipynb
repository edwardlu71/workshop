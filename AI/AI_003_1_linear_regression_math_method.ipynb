{
 "cells": [
  {
   "cell_type": "markdown",
   "metadata": {},
   "source": [
    "# Linear Regression\n",
    "\n",
    "[Edward Lu](https://github.com/edwardlu71/notebooks)"
   ]
  },
  {
   "cell_type": "markdown",
   "metadata": {},
   "source": [
    "#### Mean and Standard Deviation (X)"
   ]
  },
  {
   "cell_type": "markdown",
   "metadata": {},
   "source": [
    "$$  \\begin{align} \\mu = \\frac{\\sum_{i=1}^{N}x_{i}}{N}, \\sigma = \\sqrt{\\frac{\\sum_{i=1}^{N}(x_{i}-\\bar{x})^2}{N-1}}, var = \\sigma^{2} \\end{align} \\tag{1} $$ \n",
    "\n",
    "Same formula are applied to Y.\n",
    "Sample variances and covariance of x and y (N for population variance; N-1 for sample variance):\n",
    "\n",
    "$$ \\begin{align} Var(X) = \\frac{1}{N-1}\\sum_{i=1}^{N}(x_{i}-\\bar{x})^2, Var(Y) = \\frac{1}{N-1} \\sum_{i=1}^{N}(y_{i}-\\bar{y})^2, Cov(X, Y) = \\frac{1}{N-1}\\sum_{i=1}^{N}(X_{i}-\\bar{X})(Y_{i}-\\bar{Y}) \\end{align} \\tag{1.2} $$\n",
    "\n",
    "Notation of ss\n",
    "$$ \\begin{align} SS_{x} = (N-1)Var(X), SS_{y} = (N-1)Var(Y), S_{xy} = (N-1)Cov(X, Y)  \\end{align} \\tag{1.3} $$"
   ]
  },
  {
   "cell_type": "markdown",
   "metadata": {},
   "source": [
    "#### Derivation of linear regression equations\n",
    "[proof](http://seismo.berkeley.edu/~kirchner/eps_120/Toolkits/Toolkit_10.pdf)\n",
    "\n",
    "Given a set of N points $ (X_{i}, Y_{i}) $ on a scatterplot, find the best-fit line, \n",
    "$ \\begin{align} \\hat{Y}_{i} = a + b X_{i} \\end{align} \\tag{2} $\n",
    " such that the sum of squared errors in Y, $ \\sum_{i=1}^{N}(Y_{i}-\\hat{Y}_{i})^{2} $ is minimized <p>\n",
    "    \n",
    "That means to apply $ \\large \\frac{\\partial Q}{\\partial a} = 0, \\frac{\\partial Q}{\\partial b} = 0 $ to Q (least mean square)\n",
    "    \n",
    "$$ \\begin{align} Q = \\sum_{i=1}^{N}(Y_{i}-\\hat{Y}_{i})^{2} = \\sum_{i=1}^{N}(Y_{i}-a-bX_{i})^{2} \\end{align} \\tag{3} $$\n",
    "    \n",
    "we get <br>\n",
    "$$ \\begin{align} a = \\bar{Y} - b \\bar{X}, b = \\frac{ \\frac{1}{n}\\sum_{i=1}^{N}(X_{i}-\\bar{X})(Y_{i}-\\bar{Y}) }{\\frac{1}{n}\\sum_{i=1}^{N}(X_{i}-\\bar{X})^{2}} = \\frac{Cov(X, Y)}{Var(X)} \\end{align} \\tag{4} $$\n",
    "    \n",
    "correlation coefficient r or the coefficient of determination $ r^{2} $ is defined as\n",
    "    \n",
    "$$ \\begin{align} r^{2} = \\frac{S_{xy}^{2}}{SS_{x}SS_{y}} = \\frac{ (\\sum_{i=1}^{N}(X_{i}-\\bar{X})(Y_{i}-\\bar{Y}))^{2} }{\\sum_{i=1}^{N}(X_{i}-\\bar{X})^{2}\\sum_{i=1}^{N}(Y_{i}-\\bar{Y})^{2}} \\end{align} \\tag{5} $$\n",
    "\n",
    "Calculation in order: \n",
    "    - mean of x and y from (1)\n",
    "    - var of x and y and cov from (1.2)\n",
    "    - slope b and intercept a from (4)\n",
    "    - correlation r from (5) and (1.3)\n",
    "    "
   ]
  },
  {
   "cell_type": "code",
   "execution_count": 1,
   "metadata": {},
   "outputs": [],
   "source": [
    "%matplotlib inline\n",
    "import numpy as np\n",
    "from sklearn import datasets\n",
    "import matplotlib.pyplot as plt"
   ]
  },
  {
   "cell_type": "code",
   "execution_count": 2,
   "metadata": {},
   "outputs": [],
   "source": [
    "# 0) prepare data\n",
    "# Be aware of data shapes: X_numpy is vertical arrary of arries with one element; y_numpy is horizental array\n",
    "X_numpy, y_numpy, coef = datasets.make_regression(n_samples=100, #number of samples\n",
    "                                                  n_features=1, #number of features\n",
    "                                                  n_informative=1, #number of useful features\n",
    "                                                  noise=20, #bias and standard deviation of the guassian noise\n",
    "                                                  coef=True, #true coefficient used to generated the data\n",
    "                                                  random_state=1)"
   ]
  },
  {
   "cell_type": "code",
   "execution_count": 3,
   "metadata": {},
   "outputs": [
    {
     "data": {
      "text/plain": [
       "Text(0.5, 1.0, 'samples and traditional linear regression')"
      ]
     },
     "execution_count": 3,
     "metadata": {},
     "output_type": "execute_result"
    },
    {
     "data": {
      "image/png": "[encoded data removed]",
      "text/plain": [
       "<Figure size 720x360 with 1 Axes>"
      ]
     },
     "metadata": {
      "needs_background": "light"
     },
     "output_type": "display_data"
    }
   ],
   "source": [
    "# convert X_numpy to horizental array\n",
    "x_numpy = X_numpy.T[0]\n",
    "\n",
    "# plot the data and linear regression result\n",
    "fig = plt.figure()\n",
    "fig.set_figheight(5)\n",
    "fig.set_figwidth(10)\n",
    "\n",
    "plt.ion() #interactive plot on\n",
    "plt.grid(True)\n",
    "plt.plot(X_numpy, y_numpy,'.',label='training data')\n",
    "plt.xlabel('X')\n",
    "plt.ylabel('Y')\n",
    "plt.title('samples and traditional linear regression')"
   ]
  },
  {
   "cell_type": "markdown",
   "metadata": {},
   "source": [
    "## 1. Math of linear regression, traditonal method\n"
   ]
  },
  {
   "cell_type": "code",
   "execution_count": 4,
   "metadata": {},
   "outputs": [
    {
     "name": "stdout",
     "output_type": "stream",
     "text": [
      "mean of x and y 0.060582852075698704 9.051174996815666\n",
      "standard deviation of x and y 0.8851562138315849 75.25470813506942\n",
      "variance of x and y 0.7835015228846666 5663.2710964944845\n",
      "cov matrix of x and y: \n",
      " [[7.83501523e-01 6.46267308e+01]\n",
      " [6.46267308e+01 5.66327110e+03]]\n",
      "cov(x,y) =   64.62673081029031\n",
      "correlate coefficient matrix of x and y: \n",
      " [[1.         0.97019401]\n",
      " [0.97019401 1.        ]]\n",
      "correlation coefficient(x,y) =   0.9701940104899215\n",
      "our own calculation of r_xy from variances:  0.9701940104899212\n",
      "linear regression to line y = a + bx, where b = 82.48449929280295; a = 4.054028777621711\n"
     ]
    }
   ],
   "source": [
    "# do a traditional linear regression\n",
    "\n",
    "import math\n",
    "# ddof = 1: sample variance  \n",
    "#      = 0: population variance\n",
    "ddof = 0\n",
    "mean_x = np.mean(x_numpy)\n",
    "mean_y = np.mean(y_numpy)\n",
    "print(\"mean of x and y\", mean_x, mean_y)\n",
    "print(\"standard deviation of x and y\", np.std(x_numpy, ddof=ddof), np.std(y_numpy, ddof=ddof))\n",
    "var_x = np.var(x_numpy, ddof=ddof)\n",
    "var_y = np.var(y_numpy, ddof=ddof)\n",
    "print(\"variance of x and y\", var_x, var_y)\n",
    "print(\"cov matrix of x and y: \\n\", np.cov(x_numpy, y_numpy, ddof=ddof))\n",
    "cov_xy = np.cov(x_numpy, y_numpy, ddof=ddof)[0,1]\n",
    "print(\"cov(x,y) =  \", cov_xy)\n",
    "print('correlate coefficient matrix of x and y: \\n', np.corrcoef(x_numpy,y_numpy))\n",
    "r_xy = np.corrcoef(x_numpy,y_numpy)[0,1] # always sample variance type\n",
    "print(\"correlation coefficient(x,y) =  \", r_xy)\n",
    "print(\"our own calculation of r_xy from variances: \", math.sqrt(cov_xy**2/var_x/var_y))\n",
    "\n",
    "b = cov_xy/var_x\n",
    "a = mean_y - b * mean_x\n",
    "\n",
    "print(\"linear regression to line y = a + bx, where b = {}; a = {}\".format(b, a))\n",
    "np.correlate(x_numpy,y_numpy, mode='valid')\n",
    "\n",
    "x_hat = np.linspace(X_numpy.min(), X_numpy.max(), 1000)\n",
    "y_hat = a + b * x_hat"
   ]
  },
  {
   "cell_type": "code",
   "execution_count": 5,
   "metadata": {},
   "outputs": [
    {
     "data": {
      "text/plain": [
       "Text(0.5, 1.0, 'samples and traditional linear regression')"
      ]
     },
     "execution_count": 5,
     "metadata": {},
     "output_type": "execute_result"
    },
    {
     "data": {
      "image/png": "[encoded data removed]",
      "text/plain": [
       "<Figure size 720x360 with 1 Axes>"
      ]
     },
     "metadata": {
      "needs_background": "light"
     },
     "output_type": "display_data"
    }
   ],
   "source": [
    "# plot the data and linear regression result\n",
    "fig = plt.figure()\n",
    "fig.set_figheight(5)\n",
    "fig.set_figwidth(10)\n",
    "\n",
    "plt.ion() #interactive plot on\n",
    "plt.grid(True)\n",
    "plt.plot(X_numpy, y_numpy,'.',label='training data')\n",
    "plt.plot(x_hat, y_hat, \"r\")\n",
    "plt.xlabel('X')\n",
    "plt.ylabel('Y')\n",
    "plt.title('samples and traditional linear regression')\n"
   ]
  }
 ],
 "metadata": {
  "kernelspec": {
   "display_name": "Python 3",
   "language": "python",
   "name": "python3"
  },
  "language_info": {
   "codemirror_mode": {
    "name": "ipython",
    "version": 3
   },
   "file_extension": ".py",
   "mimetype": "text/x-python",
   "name": "python",
   "nbconvert_exporter": "python",
   "pygments_lexer": "ipython3",
   "version": "3.8.2"
  }
 },
 "nbformat": 4,
 "nbformat_minor": 2
}
