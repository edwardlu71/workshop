{
 "cells": [
  {
   "cell_type": "markdown",
   "metadata": {},
   "source": [
    "# scikit-learn\n",
    "\n",
    "## Supervised Classification Training"
   ]
  },
  {
   "cell_type": "markdown",
   "metadata": {},
   "source": [
    "### IRIS Flowers\n",
    "\n",
    "[iris](https://en.wikipedia.org/wiki/Iris_flower_data_set) Iris flower data set is a multivariate data set as an example of linear discriminant analysis"
   ]
  },
  {
   "cell_type": "code",
   "execution_count": 1,
   "metadata": {},
   "outputs": [],
   "source": [
    "from sklearn import datasets\n",
    "iris = datasets.load_iris()"
   ]
  },
  {
   "cell_type": "code",
   "execution_count": 2,
   "metadata": {},
   "outputs": [
    {
     "name": "stdout",
     "output_type": "stream",
     "text": [
      "ds has 150 records of data\n",
      "['DESCR', 'data', 'feature_names', 'filename', 'frame', 'target', 'target_names']\n"
     ]
    },
    {
     "data": {
      "text/plain": [
       "[(0, 'setosa'), (1, 'versicolor'), (2, 'virginica')]"
      ]
     },
     "execution_count": 2,
     "metadata": {},
     "output_type": "execute_result"
    }
   ],
   "source": [
    "print(f\"ds has {len(iris.data)} records of data\")\n",
    "print(dir(iris))\n",
    "\n",
    "list(enumerate(iris.target_names))"
   ]
  },
  {
   "cell_type": "code",
   "execution_count": 3,
   "metadata": {},
   "outputs": [
    {
     "data": {
      "text/plain": [
       "(['sepal length (cm)',\n",
       "  'sepal width (cm)',\n",
       "  'petal length (cm)',\n",
       "  'petal width (cm)'],\n",
       " [(array([5.1, 3.5, 1.4, 0.2]), 'setosa'),\n",
       "  (array([4.9, 3. , 1.4, 0.2]), 'setosa'),\n",
       "  (array([4.7, 3.2, 1.3, 0.2]), 'setosa'),\n",
       "  (array([4.6, 3.1, 1.5, 0.2]), 'setosa'),\n",
       "  (array([5. , 3.6, 1.4, 0.2]), 'setosa'),\n",
       "  (array([5.4, 3.9, 1.7, 0.4]), 'setosa'),\n",
       "  (array([4.6, 3.4, 1.4, 0.3]), 'setosa'),\n",
       "  (array([5. , 3.4, 1.5, 0.2]), 'setosa'),\n",
       "  (array([4.4, 2.9, 1.4, 0.2]), 'setosa'),\n",
       "  (array([4.9, 3.1, 1.5, 0.1]), 'setosa'),\n",
       "  (array([5.4, 3.7, 1.5, 0.2]), 'setosa'),\n",
       "  (array([4.8, 3.4, 1.6, 0.2]), 'setosa'),\n",
       "  (array([4.8, 3. , 1.4, 0.1]), 'setosa'),\n",
       "  (array([4.3, 3. , 1.1, 0.1]), 'setosa'),\n",
       "  (array([5.8, 4. , 1.2, 0.2]), 'setosa'),\n",
       "  (array([5.7, 4.4, 1.5, 0.4]), 'setosa'),\n",
       "  (array([5.4, 3.9, 1.3, 0.4]), 'setosa'),\n",
       "  (array([5.1, 3.5, 1.4, 0.3]), 'setosa'),\n",
       "  (array([5.7, 3.8, 1.7, 0.3]), 'setosa'),\n",
       "  (array([5.1, 3.8, 1.5, 0.3]), 'setosa'),\n",
       "  (array([5.4, 3.4, 1.7, 0.2]), 'setosa'),\n",
       "  (array([5.1, 3.7, 1.5, 0.4]), 'setosa'),\n",
       "  (array([4.6, 3.6, 1. , 0.2]), 'setosa'),\n",
       "  (array([5.1, 3.3, 1.7, 0.5]), 'setosa'),\n",
       "  (array([4.8, 3.4, 1.9, 0.2]), 'setosa'),\n",
       "  (array([5. , 3. , 1.6, 0.2]), 'setosa'),\n",
       "  (array([5. , 3.4, 1.6, 0.4]), 'setosa'),\n",
       "  (array([5.2, 3.5, 1.5, 0.2]), 'setosa'),\n",
       "  (array([5.2, 3.4, 1.4, 0.2]), 'setosa'),\n",
       "  (array([4.7, 3.2, 1.6, 0.2]), 'setosa'),\n",
       "  (array([4.8, 3.1, 1.6, 0.2]), 'setosa'),\n",
       "  (array([5.4, 3.4, 1.5, 0.4]), 'setosa'),\n",
       "  (array([5.2, 4.1, 1.5, 0.1]), 'setosa'),\n",
       "  (array([5.5, 4.2, 1.4, 0.2]), 'setosa'),\n",
       "  (array([4.9, 3.1, 1.5, 0.2]), 'setosa'),\n",
       "  (array([5. , 3.2, 1.2, 0.2]), 'setosa'),\n",
       "  (array([5.5, 3.5, 1.3, 0.2]), 'setosa'),\n",
       "  (array([4.9, 3.6, 1.4, 0.1]), 'setosa'),\n",
       "  (array([4.4, 3. , 1.3, 0.2]), 'setosa'),\n",
       "  (array([5.1, 3.4, 1.5, 0.2]), 'setosa'),\n",
       "  (array([5. , 3.5, 1.3, 0.3]), 'setosa'),\n",
       "  (array([4.5, 2.3, 1.3, 0.3]), 'setosa'),\n",
       "  (array([4.4, 3.2, 1.3, 0.2]), 'setosa'),\n",
       "  (array([5. , 3.5, 1.6, 0.6]), 'setosa'),\n",
       "  (array([5.1, 3.8, 1.9, 0.4]), 'setosa'),\n",
       "  (array([4.8, 3. , 1.4, 0.3]), 'setosa'),\n",
       "  (array([5.1, 3.8, 1.6, 0.2]), 'setosa'),\n",
       "  (array([4.6, 3.2, 1.4, 0.2]), 'setosa'),\n",
       "  (array([5.3, 3.7, 1.5, 0.2]), 'setosa'),\n",
       "  (array([5. , 3.3, 1.4, 0.2]), 'setosa'),\n",
       "  (array([7. , 3.2, 4.7, 1.4]), 'versicolor'),\n",
       "  (array([6.4, 3.2, 4.5, 1.5]), 'versicolor'),\n",
       "  (array([6.9, 3.1, 4.9, 1.5]), 'versicolor'),\n",
       "  (array([5.5, 2.3, 4. , 1.3]), 'versicolor'),\n",
       "  (array([6.5, 2.8, 4.6, 1.5]), 'versicolor'),\n",
       "  (array([5.7, 2.8, 4.5, 1.3]), 'versicolor'),\n",
       "  (array([6.3, 3.3, 4.7, 1.6]), 'versicolor'),\n",
       "  (array([4.9, 2.4, 3.3, 1. ]), 'versicolor'),\n",
       "  (array([6.6, 2.9, 4.6, 1.3]), 'versicolor'),\n",
       "  (array([5.2, 2.7, 3.9, 1.4]), 'versicolor'),\n",
       "  (array([5. , 2. , 3.5, 1. ]), 'versicolor'),\n",
       "  (array([5.9, 3. , 4.2, 1.5]), 'versicolor'),\n",
       "  (array([6. , 2.2, 4. , 1. ]), 'versicolor'),\n",
       "  (array([6.1, 2.9, 4.7, 1.4]), 'versicolor'),\n",
       "  (array([5.6, 2.9, 3.6, 1.3]), 'versicolor'),\n",
       "  (array([6.7, 3.1, 4.4, 1.4]), 'versicolor'),\n",
       "  (array([5.6, 3. , 4.5, 1.5]), 'versicolor'),\n",
       "  (array([5.8, 2.7, 4.1, 1. ]), 'versicolor'),\n",
       "  (array([6.2, 2.2, 4.5, 1.5]), 'versicolor'),\n",
       "  (array([5.6, 2.5, 3.9, 1.1]), 'versicolor'),\n",
       "  (array([5.9, 3.2, 4.8, 1.8]), 'versicolor'),\n",
       "  (array([6.1, 2.8, 4. , 1.3]), 'versicolor'),\n",
       "  (array([6.3, 2.5, 4.9, 1.5]), 'versicolor'),\n",
       "  (array([6.1, 2.8, 4.7, 1.2]), 'versicolor'),\n",
       "  (array([6.4, 2.9, 4.3, 1.3]), 'versicolor'),\n",
       "  (array([6.6, 3. , 4.4, 1.4]), 'versicolor'),\n",
       "  (array([6.8, 2.8, 4.8, 1.4]), 'versicolor'),\n",
       "  (array([6.7, 3. , 5. , 1.7]), 'versicolor'),\n",
       "  (array([6. , 2.9, 4.5, 1.5]), 'versicolor'),\n",
       "  (array([5.7, 2.6, 3.5, 1. ]), 'versicolor'),\n",
       "  (array([5.5, 2.4, 3.8, 1.1]), 'versicolor'),\n",
       "  (array([5.5, 2.4, 3.7, 1. ]), 'versicolor'),\n",
       "  (array([5.8, 2.7, 3.9, 1.2]), 'versicolor'),\n",
       "  (array([6. , 2.7, 5.1, 1.6]), 'versicolor'),\n",
       "  (array([5.4, 3. , 4.5, 1.5]), 'versicolor'),\n",
       "  (array([6. , 3.4, 4.5, 1.6]), 'versicolor'),\n",
       "  (array([6.7, 3.1, 4.7, 1.5]), 'versicolor'),\n",
       "  (array([6.3, 2.3, 4.4, 1.3]), 'versicolor'),\n",
       "  (array([5.6, 3. , 4.1, 1.3]), 'versicolor'),\n",
       "  (array([5.5, 2.5, 4. , 1.3]), 'versicolor'),\n",
       "  (array([5.5, 2.6, 4.4, 1.2]), 'versicolor'),\n",
       "  (array([6.1, 3. , 4.6, 1.4]), 'versicolor'),\n",
       "  (array([5.8, 2.6, 4. , 1.2]), 'versicolor'),\n",
       "  (array([5. , 2.3, 3.3, 1. ]), 'versicolor'),\n",
       "  (array([5.6, 2.7, 4.2, 1.3]), 'versicolor'),\n",
       "  (array([5.7, 3. , 4.2, 1.2]), 'versicolor'),\n",
       "  (array([5.7, 2.9, 4.2, 1.3]), 'versicolor'),\n",
       "  (array([6.2, 2.9, 4.3, 1.3]), 'versicolor'),\n",
       "  (array([5.1, 2.5, 3. , 1.1]), 'versicolor'),\n",
       "  (array([5.7, 2.8, 4.1, 1.3]), 'versicolor'),\n",
       "  (array([6.3, 3.3, 6. , 2.5]), 'virginica'),\n",
       "  (array([5.8, 2.7, 5.1, 1.9]), 'virginica'),\n",
       "  (array([7.1, 3. , 5.9, 2.1]), 'virginica'),\n",
       "  (array([6.3, 2.9, 5.6, 1.8]), 'virginica'),\n",
       "  (array([6.5, 3. , 5.8, 2.2]), 'virginica'),\n",
       "  (array([7.6, 3. , 6.6, 2.1]), 'virginica'),\n",
       "  (array([4.9, 2.5, 4.5, 1.7]), 'virginica'),\n",
       "  (array([7.3, 2.9, 6.3, 1.8]), 'virginica'),\n",
       "  (array([6.7, 2.5, 5.8, 1.8]), 'virginica'),\n",
       "  (array([7.2, 3.6, 6.1, 2.5]), 'virginica'),\n",
       "  (array([6.5, 3.2, 5.1, 2. ]), 'virginica'),\n",
       "  (array([6.4, 2.7, 5.3, 1.9]), 'virginica'),\n",
       "  (array([6.8, 3. , 5.5, 2.1]), 'virginica'),\n",
       "  (array([5.7, 2.5, 5. , 2. ]), 'virginica'),\n",
       "  (array([5.8, 2.8, 5.1, 2.4]), 'virginica'),\n",
       "  (array([6.4, 3.2, 5.3, 2.3]), 'virginica'),\n",
       "  (array([6.5, 3. , 5.5, 1.8]), 'virginica'),\n",
       "  (array([7.7, 3.8, 6.7, 2.2]), 'virginica'),\n",
       "  (array([7.7, 2.6, 6.9, 2.3]), 'virginica'),\n",
       "  (array([6. , 2.2, 5. , 1.5]), 'virginica'),\n",
       "  (array([6.9, 3.2, 5.7, 2.3]), 'virginica'),\n",
       "  (array([5.6, 2.8, 4.9, 2. ]), 'virginica'),\n",
       "  (array([7.7, 2.8, 6.7, 2. ]), 'virginica'),\n",
       "  (array([6.3, 2.7, 4.9, 1.8]), 'virginica'),\n",
       "  (array([6.7, 3.3, 5.7, 2.1]), 'virginica'),\n",
       "  (array([7.2, 3.2, 6. , 1.8]), 'virginica'),\n",
       "  (array([6.2, 2.8, 4.8, 1.8]), 'virginica'),\n",
       "  (array([6.1, 3. , 4.9, 1.8]), 'virginica'),\n",
       "  (array([6.4, 2.8, 5.6, 2.1]), 'virginica'),\n",
       "  (array([7.2, 3. , 5.8, 1.6]), 'virginica'),\n",
       "  (array([7.4, 2.8, 6.1, 1.9]), 'virginica'),\n",
       "  (array([7.9, 3.8, 6.4, 2. ]), 'virginica'),\n",
       "  (array([6.4, 2.8, 5.6, 2.2]), 'virginica'),\n",
       "  (array([6.3, 2.8, 5.1, 1.5]), 'virginica'),\n",
       "  (array([6.1, 2.6, 5.6, 1.4]), 'virginica'),\n",
       "  (array([7.7, 3. , 6.1, 2.3]), 'virginica'),\n",
       "  (array([6.3, 3.4, 5.6, 2.4]), 'virginica'),\n",
       "  (array([6.4, 3.1, 5.5, 1.8]), 'virginica'),\n",
       "  (array([6. , 3. , 4.8, 1.8]), 'virginica'),\n",
       "  (array([6.9, 3.1, 5.4, 2.1]), 'virginica'),\n",
       "  (array([6.7, 3.1, 5.6, 2.4]), 'virginica'),\n",
       "  (array([6.9, 3.1, 5.1, 2.3]), 'virginica'),\n",
       "  (array([5.8, 2.7, 5.1, 1.9]), 'virginica'),\n",
       "  (array([6.8, 3.2, 5.9, 2.3]), 'virginica'),\n",
       "  (array([6.7, 3.3, 5.7, 2.5]), 'virginica'),\n",
       "  (array([6.7, 3. , 5.2, 2.3]), 'virginica'),\n",
       "  (array([6.3, 2.5, 5. , 1.9]), 'virginica'),\n",
       "  (array([6.5, 3. , 5.2, 2. ]), 'virginica'),\n",
       "  (array([6.2, 3.4, 5.4, 2.3]), 'virginica'),\n",
       "  (array([5.9, 3. , 5.1, 1.8]), 'virginica')])"
      ]
     },
     "execution_count": 3,
     "metadata": {},
     "output_type": "execute_result"
    }
   ],
   "source": [
    "# iris - features of 3 flowers\n",
    "iris.feature_names, list(zip(iris.data, iris.target_names[iris.target]))"
   ]
  },
  {
   "cell_type": "code",
   "execution_count": 4,
   "metadata": {},
   "outputs": [
    {
     "data": {
      "text/plain": [
       "KNeighborsClassifier()"
      ]
     },
     "execution_count": 4,
     "metadata": {},
     "output_type": "execute_result"
    }
   ],
   "source": [
    "# Create and fit a nearest-neighbor classifier\n",
    "from sklearn.neighbors import KNeighborsClassifier\n",
    "knn = KNeighborsClassifier()\n",
    "knn.fit(iris.data, iris.target)"
   ]
  },
  {
   "cell_type": "code",
   "execution_count": 5,
   "metadata": {},
   "outputs": [
    {
     "data": {
      "text/plain": [
       "(array([2]), array([2]))"
      ]
     },
     "execution_count": 5,
     "metadata": {},
     "output_type": "execute_result"
    }
   ],
   "source": [
    "# use last sample for a test\n",
    "knn.predict(iris.data[-1:]), iris.target[-1:]"
   ]
  },
  {
   "cell_type": "code",
   "execution_count": 6,
   "metadata": {},
   "outputs": [
    {
     "data": {
      "text/plain": [
       "array([[0. , 0.8, 0.2]])"
      ]
     },
     "execution_count": 6,
     "metadata": {},
     "output_type": "execute_result"
    }
   ],
   "source": [
    "knn.predict_proba([[3, 5, 4, 2],])"
   ]
  },
  {
   "cell_type": "markdown",
   "metadata": {},
   "source": [
    "### Digits Pictures"
   ]
  },
  {
   "cell_type": "code",
   "execution_count": 7,
   "metadata": {},
   "outputs": [],
   "source": [
    "# load pictures of digit number\n",
    "digits = datasets.load_digits()"
   ]
  },
  {
   "cell_type": "code",
   "execution_count": 8,
   "metadata": {},
   "outputs": [
    {
     "name": "stdout",
     "output_type": "stream",
     "text": [
      "ds has 1797 samples of data\n",
      "['DESCR', 'data', 'feature_names', 'frame', 'images', 'target', 'target_names']\n"
     ]
    },
    {
     "data": {
      "text/plain": [
       "[(0, 0),\n",
       " (1, 1),\n",
       " (2, 2),\n",
       " (3, 3),\n",
       " (4, 4),\n",
       " (5, 5),\n",
       " (6, 6),\n",
       " (7, 7),\n",
       " (8, 8),\n",
       " (9, 9)]"
      ]
     },
     "execution_count": 8,
     "metadata": {},
     "output_type": "execute_result"
    }
   ],
   "source": [
    "print(f\"ds has {len(digits.data)} samples of data\")\n",
    "print(dir(digits))\n",
    "\n",
    "# target value is target name 0-9\n",
    "list(enumerate(digits.target_names))"
   ]
  },
  {
   "cell_type": "code",
   "execution_count": 9,
   "metadata": {},
   "outputs": [
    {
     "data": {
      "text/plain": [
       "((8, 8),\n",
       " array([[ 0.,  0.,  5., 13.,  9.,  1.,  0.,  0.],\n",
       "        [ 0.,  0., 13., 15., 10., 15.,  5.,  0.],\n",
       "        [ 0.,  3., 15.,  2.,  0., 11.,  8.,  0.],\n",
       "        [ 0.,  4., 12.,  0.,  0.,  8.,  8.,  0.],\n",
       "        [ 0.,  5.,  8.,  0.,  0.,  9.,  8.,  0.],\n",
       "        [ 0.,  4., 11.,  0.,  1., 12.,  7.,  0.],\n",
       "        [ 0.,  2., 14.,  5., 10., 12.,  0.,  0.],\n",
       "        [ 0.,  0.,  6., 13., 10.,  0.,  0.,  0.]]))"
      ]
     },
     "execution_count": 9,
     "metadata": {},
     "output_type": "execute_result"
    }
   ],
   "source": [
    "# each sample is a 8x8 pixel image\n",
    "digits.images[0].shape, digits.images[0]"
   ]
  },
  {
   "cell_type": "code",
   "execution_count": 10,
   "metadata": {},
   "outputs": [
    {
     "data": {
      "text/plain": [
       "(64,\n",
       " array([ 0.,  0.,  5., 13.,  9.,  1.,  0.,  0.,  0.,  0., 13., 15., 10.,\n",
       "        15.,  5.,  0.,  0.,  3., 15.,  2.,  0., 11.,  8.,  0.,  0.,  4.,\n",
       "        12.,  0.,  0.,  8.,  8.,  0.,  0.,  5.,  8.,  0.,  0.,  9.,  8.,\n",
       "         0.,  0.,  4., 11.,  0.,  1., 12.,  7.,  0.,  0.,  2., 14.,  5.,\n",
       "        10., 12.,  0.,  0.,  0.,  0.,  6., 13., 10.,  0.,  0.,  0.]))"
      ]
     },
     "execution_count": 10,
     "metadata": {},
     "output_type": "execute_result"
    }
   ],
   "source": [
    "# the image data is flatten to 1 dimension array of 64 elements\n",
    "len(digits.data[0]), digits.data[0]"
   ]
  },
  {
   "cell_type": "markdown",
   "metadata": {},
   "source": [
    "### Estimator for classifier"
   ]
  },
  {
   "cell_type": "code",
   "execution_count": 11,
   "metadata": {},
   "outputs": [],
   "source": [
    "# use an estimator sklearn.svm.SVC, which implements support vector classification\n",
    "from sklearn import svm\n",
    "clf = svm.SVC(gamma=0.001, C=100.)"
   ]
  },
  {
   "cell_type": "code",
   "execution_count": 12,
   "metadata": {},
   "outputs": [
    {
     "data": {
      "text/plain": [
       "SVC(C=100.0, gamma=0.001)"
      ]
     },
     "execution_count": 12,
     "metadata": {},
     "output_type": "execute_result"
    }
   ],
   "source": [
    "# train the model with data\n",
    "clf.fit(digits.data[:-1], digits.target[:-1])"
   ]
  },
  {
   "cell_type": "code",
   "execution_count": 13,
   "metadata": {},
   "outputs": [
    {
     "data": {
      "text/plain": [
       "(array([8]), array([8]))"
      ]
     },
     "execution_count": 13,
     "metadata": {},
     "output_type": "execute_result"
    }
   ],
   "source": [
    "# predict with a picture. the input must be an array, even with just 1 element\n",
    "clf.predict(digits.data[-1:]), digits.target[-1:]"
   ]
  },
  {
   "cell_type": "code",
   "execution_count": 14,
   "metadata": {},
   "outputs": [
    {
     "data": {
      "image/png": "[encoded data removed]",
      "text/plain": [
       "<Figure size 432x288 with 1 Axes>"
      ]
     },
     "metadata": {
      "needs_background": "light"
     },
     "output_type": "display_data"
    }
   ],
   "source": [
    "%matplotlib inline\n",
    "import matplotlib.pyplot as plt\n",
    "plt.imshow(digits.images[-1], cmap='gray')\n",
    "plt.show()"
   ]
  },
  {
   "cell_type": "code",
   "execution_count": null,
   "metadata": {},
   "outputs": [],
   "source": []
  }
 ],
 "metadata": {
  "kernelspec": {
   "display_name": "Python 3",
   "language": "python",
   "name": "python3"
  },
  "language_info": {
   "codemirror_mode": {
    "name": "ipython",
    "version": 3
   },
   "file_extension": ".py",
   "mimetype": "text/x-python",
   "name": "python",
   "nbconvert_exporter": "python",
   "pygments_lexer": "ipython3",
   "version": "3.8.2"
  }
 },
 "nbformat": 4,
 "nbformat_minor": 4
}
