{
 "cells": [
  {
   "cell_type": "markdown",
   "metadata": {},
   "source": [
    "# SQLAlchemy Data Model from Reflection"
   ]
  },
  {
   "cell_type": "code",
   "execution_count": null,
   "metadata": {},
   "outputs": [],
   "source": [
    "import psycopg2\n",
    "import pandas as pd\n",
    "import numpy as np\n",
    "import sqlalchemy\n",
    "from sqlalchemy.ext.automap import automap_base\n",
    "from sqlalchemy.orm import Session\n",
    "\n",
    "from sqlalchemy import create_engine, MetaData\n",
    "from sqlalchemy.orm import mapper, relationship\n",
    "from sqlalchemy import inspect, Table, MetaData, Column, Integer, String, ForeignKey\n",
    "from sqlalchemy import text"
   ]
  },
  {
   "cell_type": "code",
   "execution_count": null,
   "metadata": {},
   "outputs": [],
   "source": [
    "pg_driver = \"postgresql+psycopg2://\"\n",
    "pg_uri = \"user=tester password=password host=localhost port=5432 dbname=pagila\"\n",
    "pg_schema = 'public'\n",
    "def pg_creator():\n",
    "    return psycopg2.connect(pg_uri)\n",
    "    #return psycopg2.connect(user=\"tester\", password=\"password\", host=\"localhost\", port=\"5432\", database=\"pagila\")\n",
    "pg_engine = sqlalchemy.create_engine(pg_driver, creator=pg_creator)\n",
    "pg_Base = automap_base()\n",
    "pg_Base.prepare(pg_engine, schema=pg_schema, reflect=True)\n",
    "pg_session = Session(pg_engine)"
   ]
  },
  {
   "cell_type": "code",
   "execution_count": null,
   "metadata": {},
   "outputs": [],
   "source": [
    "metadata = MetaData()\n",
    "metadata.reflect(bind=pg_engine)"
   ]
  },
  {
   "cell_type": "code",
   "execution_count": null,
   "metadata": {},
   "outputs": [],
   "source": [
    "list_tables = ['country', 'city', 'address', 'store', 'customer']"
   ]
  },
  {
   "cell_type": "code",
   "execution_count": null,
   "metadata": {},
   "outputs": [],
   "source": [
    "MAPPERS = {}\n",
    "repr_name = lambda t: '%s%s' % (t[0].upper(), t[1:]) # change the first charactor of the string to upper case"
   ]
  },
  {
   "cell_type": "code",
   "execution_count": null,
   "metadata": {},
   "outputs": [],
   "source": [
    "for table_name in list_tables:\n",
    "    table = metadata.tables[table_name]\n",
    "    cls = None\n",
    "    # 1. create class object\n",
    "    cls_name = repr_name(str(table))\n",
    "    print(f\"create class {cls_name}\")\n",
    "    exec(\"\"\"class %s(object): pass\"\"\" % cls_name)\n",
    "    exec(\"\"\"cls = %s\"\"\" % cls_name)\n",
    "\n",
    "    mapper(cls, table, properties={})\n",
    "    MAPPERS.update({cls_name: cls})\n",
    "    '''\n",
    "    # 2. collect relations by FK\n",
    "    properties = {}\n",
    "    #for c in metadata.tables[table].columns:\n",
    "    for c in table.columns:\n",
    "        for fk in c.foreign_keys:\n",
    "            name = str(fk.column).split('.')[0]\n",
    "            print(f\"    foreign key column {name} = {MAPPERS[repr_name(name)]}\")\n",
    "            properties.update({\n",
    "                name: relationship(lambda: MAPPERS[repr_name(name)]),\n",
    "            })\n",
    "\n",
    "    print(f\"    foreign key properties {properties}\")\n",
    "    # 3. map table to class object \n",
    "    mapper(cls, table, properties=properties)\n",
    "\n",
    "    MAPPERS.update({cls_name: cls})\n",
    "    '''"
   ]
  },
  {
   "cell_type": "code",
   "execution_count": null,
   "metadata": {},
   "outputs": [],
   "source": [
    "MAPPERS"
   ]
  },
  {
   "cell_type": "code",
   "execution_count": null,
   "metadata": {},
   "outputs": [],
   "source": [
    "insp = inspect(Address)\n",
    "list(insp.columns)"
   ]
  },
  {
   "cell_type": "code",
   "execution_count": null,
   "metadata": {},
   "outputs": [],
   "source": [
    "insp = inspect(City)\n",
    "list(insp.columns)"
   ]
  },
  {
   "cell_type": "code",
   "execution_count": null,
   "metadata": {},
   "outputs": [],
   "source": [
    "table = metadata.tables['address']"
   ]
  },
  {
   "cell_type": "code",
   "execution_count": null,
   "metadata": {},
   "outputs": [],
   "source": [
    "list(table.columns.city_id.foreign_keys)[0]._colspec"
   ]
  },
  {
   "cell_type": "code",
   "execution_count": null,
   "metadata": {},
   "outputs": [],
   "source": [
    "data = pg_session.query(Address).filter_by(city_id=1)"
   ]
  },
  {
   "cell_type": "code",
   "execution_count": null,
   "metadata": {},
   "outputs": [],
   "source": [
    "tables = dict()\n",
    "for t in list_tables:\n",
    "    table_class = MAPPERS[repr_name(t)]\n",
    "    data = pg_session.query(table_class)\n",
    "    insp = inspect(table_class)\n",
    "    tables[t] = (data, insp)\n",
    "    #for rec in data:\n",
    "    #    print(\"\\t\".join([str(getattr(rec, field)) for field in insp.column_attrs.keys()]))\n",
    "    "
   ]
  },
  {
   "cell_type": "code",
   "execution_count": null,
   "metadata": {},
   "outputs": [],
   "source": [
    "table_name = \"customer\"\n",
    "for rec in tables[table_name][0]:\n",
    "    print(\"\\t\".join([str(getattr(rec, field)) for field in tables[table_name][1].column_attrs.keys()]))"
   ]
  },
  {
   "cell_type": "code",
   "execution_count": null,
   "metadata": {},
   "outputs": [],
   "source": [
    "customer_ret = pg_session.query(Customer).filter_by(first_name='JOYCE')\n",
    "vars(customer_ret[0])"
   ]
  },
  {
   "cell_type": "code",
   "execution_count": null,
   "metadata": {},
   "outputs": [],
   "source": [
    "store_ret = pg_session.query(Store).filter_by(store_id=customer_ret[0].store_id)\n",
    "vars(store_ret[0])"
   ]
  },
  {
   "cell_type": "code",
   "execution_count": null,
   "metadata": {},
   "outputs": [],
   "source": [
    "address_ret = pg_session.query(Address).filter_by(address_id=store_ret[0].address_id)\n",
    "vars(address_ret[0])"
   ]
  },
  {
   "cell_type": "code",
   "execution_count": null,
   "metadata": {},
   "outputs": [],
   "source": [
    "city_ret = pg_session.query(City).filter_by(city_id=address_ret[0].city_id)\n",
    "vars(city_ret[0])"
   ]
  },
  {
   "cell_type": "code",
   "execution_count": null,
   "metadata": {},
   "outputs": [],
   "source": [
    "country_ret = pg_session.query(Country).filter_by(country_id=city_ret[0].country_id)\n",
    "vars(country_ret[0])"
   ]
  },
  {
   "cell_type": "markdown",
   "metadata": {},
   "source": [
    "# Raw SQL"
   ]
  },
  {
   "cell_type": "code",
   "execution_count": null,
   "metadata": {},
   "outputs": [],
   "source": [
    "# engine level reflection\n",
    "inspector = inspect(pg_engine)"
   ]
  },
  {
   "cell_type": "code",
   "execution_count": null,
   "metadata": {},
   "outputs": [],
   "source": [
    "inspector.get_columns('payment')"
   ]
  },
  {
   "cell_type": "code",
   "execution_count": null,
   "metadata": {},
   "outputs": [],
   "source": [
    "select_statement = text(\"\"\"\n",
    "    select p.payment_id, \n",
    "           concat(cu.first_name, ' ', cu.last_name) \"name\" \n",
    "    from payment p, customer cu \n",
    "    where cu.customer_id = p.customer_id \n",
    "    order by p.payment_id desc \n",
    "    limit 10\"\"\")"
   ]
  },
  {
   "cell_type": "markdown",
   "metadata": {},
   "source": [
    "### select"
   ]
  },
  {
   "cell_type": "code",
   "execution_count": null,
   "metadata": {},
   "outputs": [],
   "source": [
    "data = list()\n",
    "with pg_engine.connect() as con:\n",
    "    rs = con.execute(select_statement)\n",
    "    table_fields = rs.keys()\n",
    "    for row in rs:\n",
    "        row_dict = dict(zip(rs.keys(), row))\n",
    "        data.append(row_dict)\n",
    "print(table_fields)\n",
    "for _ in data:\n",
    "    print(_)"
   ]
  },
  {
   "cell_type": "markdown",
   "metadata": {},
   "source": [
    "### insert"
   ]
  },
  {
   "cell_type": "code",
   "execution_count": null,
   "metadata": {},
   "outputs": [],
   "source": [
    "select_statement = text(\"\"\"select * from payment order by payment_id desc limit 1\"\"\")\n",
    "data = list()\n",
    "with pg_engine.connect() as con:\n",
    "    rs = con.execute(select_statement)\n",
    "    table_fields = rs.keys()\n",
    "    for row in rs:\n",
    "        row_dict = dict(zip(rs.keys(), row))\n",
    "        data.append(row_dict)\n",
    "print(\"select:\", table_fields, data)\n",
    "\n",
    "with pg_engine.connect() as con:\n",
    "    insert_statement = text(f\"INSERT INTO payment(customer_id, staff_id, rental_id, amount, payment_date) VALUES(:customer_id, :staff_id, :rental_id, :amount, :payment_date)\")\n",
    "    for line in data:\n",
    "        ret = con.execute(insert_statement, **line)"
   ]
  },
  {
   "cell_type": "markdown",
   "metadata": {},
   "source": [
    "### delete"
   ]
  },
  {
   "cell_type": "code",
   "execution_count": null,
   "metadata": {},
   "outputs": [],
   "source": [
    "with pg_engine.connect() as con:\n",
    "    delete_statement = text(\"\"\"delete from payment where payment_id = (select max(payment_id) from payment)\"\"\")\n",
    "    ret = con.execute(delete_statement)"
   ]
  }
 ],
 "metadata": {
  "kernelspec": {
   "display_name": "Python 3",
   "language": "python",
   "name": "python3"
  },
  "language_info": {
   "codemirror_mode": {
    "name": "ipython",
    "version": 3
   },
   "file_extension": ".py",
   "mimetype": "text/x-python",
   "name": "python",
   "nbconvert_exporter": "python",
   "pygments_lexer": "ipython3",
   "version": "3.8.5"
  }
 },
 "nbformat": 4,
 "nbformat_minor": 4
}
