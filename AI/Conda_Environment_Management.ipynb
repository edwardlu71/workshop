{
 "cells": [
  {
   "cell_type": "markdown",
   "metadata": {},
   "source": [
    "# Conda"
   ]
  },
  {
   "cell_type": "code",
   "execution_count": 6,
   "metadata": {},
   "outputs": [
    {
     "name": "stdout",
     "output_type": "stream",
     "text": [
      "\n",
      "     active environment : None\n",
      "       user config file : /home/edwardl/.condarc\n",
      " populated config files : /home/edwardl/.condarc\n",
      "          conda version : 4.8.5\n",
      "    conda-build version : 3.18.11\n",
      "         python version : 3.8.3.final.0\n",
      "       virtual packages : __glibc=2.31\n",
      "       base environment : /opt/conda  (read only)\n",
      "           channel URLs : https://repo.anaconda.com/pkgs/main/linux-64\n",
      "                          https://repo.anaconda.com/pkgs/main/noarch\n",
      "                          https://repo.anaconda.com/pkgs/r/linux-64\n",
      "                          https://repo.anaconda.com/pkgs/r/noarch\n",
      "          package cache : /opt/conda/pkgs\n",
      "                          /home/edwardl/.conda/pkgs\n",
      "       envs directories : /home/edwardl/.conda/envs\n",
      "                          /opt/conda/envs\n",
      "               platform : linux-64\n",
      "             user-agent : conda/4.8.5 requests/2.24.0 CPython/3.8.3 Linux/5.4.0-1031-azure ubuntu/20.04.1 glibc/2.31\n",
      "                UID:GID : 9001:2000\n",
      "             netrc file : None\n",
      "           offline mode : False\n",
      "\n",
      "# conda environments:\n",
      "#\n",
      "base                  *  /opt/conda\n",
      "dslab                    /opt/conda/envs/dslab\n",
      "\n",
      "Available kernels:\n",
      "  iperl            /home/edwardl/.local/share/jupyter/kernels/iperl\n",
      "  bash             /usr/local/share/jupyter/kernels/bash\n",
      "  dslab            /usr/local/share/jupyter/kernels/dslab\n",
      "  ir               /usr/local/share/jupyter/kernels/ir\n",
      "  java             /usr/local/share/jupyter/kernels/java\n",
      "  julia14          /usr/local/share/jupyter/kernels/julia14\n",
      "  python3          /usr/local/share/jupyter/kernels/python3\n",
      "  sagemath9        /usr/local/share/jupyter/kernels/sagemath9\n",
      "  spylon-kernel    /usr/local/share/jupyter/kernels/spylon-kernel\n"
     ]
    }
   ],
   "source": [
    "!/opt/conda/condabin/conda info\n",
    "!/opt/conda/condabin/conda env list\n",
    "!jupyter kernelspec list"
   ]
  },
  {
   "cell_type": "markdown",
   "metadata": {},
   "source": [
    "# Create your private conda environment"
   ]
  },
  {
   "cell_type": "code",
   "execution_count": 2,
   "metadata": {},
   "outputs": [],
   "source": [
    "# define the name of your private conda environment\n",
    "conda_env = \"EdConda\"\n",
    "conda_env_lower = conda_env.lower()"
   ]
  },
  {
   "cell_type": "code",
   "execution_count": 3,
   "metadata": {},
   "outputs": [
    {
     "name": "stdout",
     "output_type": "stream",
     "text": [
      "Collecting package metadata (current_repodata.json): done\n",
      "Solving environment: done\n",
      "\n",
      "\n",
      "==> WARNING: A newer version of conda exists. <==\n",
      "  current version: 4.8.5\n",
      "  latest version: 4.9.0\n",
      "\n",
      "Please update conda by running\n",
      "\n",
      "    $ conda update -n base -c defaults conda\n",
      "\n",
      "\n",
      "\n",
      "## Package Plan ##\n",
      "\n",
      "  environment location: /home/edwardl/.conda/envs/EdConda\n",
      "\n",
      "  added / updated specs:\n",
      "    - python=3.8\n",
      "\n",
      "\n",
      "The following NEW packages will be INSTALLED:\n",
      "\n",
      "  _libgcc_mutex      pkgs/main/linux-64::_libgcc_mutex-0.1-main\n",
      "  ca-certificates    pkgs/main/linux-64::ca-certificates-2020.10.14-0\n",
      "  certifi            pkgs/main/linux-64::certifi-2020.6.20-py38_0\n",
      "  ld_impl_linux-64   pkgs/main/linux-64::ld_impl_linux-64-2.33.1-h53a641e_7\n",
      "  libedit            pkgs/main/linux-64::libedit-3.1.20191231-h14c3975_1\n",
      "  libffi             pkgs/main/linux-64::libffi-3.3-he6710b0_2\n",
      "  libgcc-ng          pkgs/main/linux-64::libgcc-ng-9.1.0-hdf63c60_0\n",
      "  libstdcxx-ng       pkgs/main/linux-64::libstdcxx-ng-9.1.0-hdf63c60_0\n",
      "  ncurses            pkgs/main/linux-64::ncurses-6.2-he6710b0_1\n",
      "  openssl            pkgs/main/linux-64::openssl-1.1.1h-h7b6447c_0\n",
      "  pip                pkgs/main/linux-64::pip-20.2.4-py38_0\n",
      "  python             pkgs/main/linux-64::python-3.8.5-h7579374_1\n",
      "  readline           pkgs/main/linux-64::readline-8.0-h7b6447c_0\n",
      "  setuptools         pkgs/main/linux-64::setuptools-50.3.0-py38hb0f4dca_1\n",
      "  sqlite             pkgs/main/linux-64::sqlite-3.33.0-h62c20be_0\n",
      "  tk                 pkgs/main/linux-64::tk-8.6.10-hbc83047_0\n",
      "  wheel              pkgs/main/noarch::wheel-0.35.1-py_0\n",
      "  xz                 pkgs/main/linux-64::xz-5.2.5-h7b6447c_0\n",
      "  zlib               pkgs/main/linux-64::zlib-1.2.11-h7b6447c_3\n",
      "\n",
      "\n",
      "Preparing transaction: done\n",
      "Verifying transaction: done\n",
      "Executing transaction: done\n",
      "#\n",
      "# To activate this environment, use\n",
      "#\n",
      "#     $ conda activate EdConda\n",
      "#\n",
      "# To deactivate an active environment, use\n",
      "#\n",
      "#     $ conda deactivate\n",
      "\n",
      "Collecting package metadata (current_repodata.json): done\n",
      "Solving environment: failed with initial frozen solve. Retrying with flexible solve.\n",
      "Solving environment: failed with repodata from current_repodata.json, will retry with next repodata source.\n",
      "Collecting package metadata (repodata.json): done\n",
      "Solving environment: done\n",
      "\n",
      "\n",
      "==> WARNING: A newer version of conda exists. <==\n",
      "  current version: 4.8.5\n",
      "  latest version: 4.9.0\n",
      "\n",
      "Please update conda by running\n",
      "\n",
      "    $ conda update -n base -c defaults conda\n",
      "\n",
      "\n",
      "\n",
      "## Package Plan ##\n",
      "\n",
      "  environment location: /home/edwardl/.conda/envs/EdConda\n",
      "\n",
      "  added / updated specs:\n",
      "    - ipykernel\n",
      "\n",
      "\n",
      "The following NEW packages will be INSTALLED:\n",
      "\n",
      "  backcall           pkgs/main/noarch::backcall-0.2.0-py_0\n",
      "  decorator          pkgs/main/noarch::decorator-4.4.2-py_0\n",
      "  ipykernel          pkgs/main/linux-64::ipykernel-5.3.4-py38h5ca1d4c_0\n",
      "  ipython            pkgs/main/linux-64::ipython-7.18.1-py38h5ca1d4c_0\n",
      "  ipython_genutils   pkgs/main/linux-64::ipython_genutils-0.2.0-py38_0\n",
      "  jedi               pkgs/main/linux-64::jedi-0.17.2-py38_0\n",
      "  jupyter_client     pkgs/main/noarch::jupyter_client-6.1.7-py_0\n",
      "  jupyter_core       pkgs/main/linux-64::jupyter_core-4.6.3-py38_0\n",
      "  libsodium          pkgs/main/linux-64::libsodium-1.0.18-h7b6447c_0\n",
      "  parso              pkgs/main/noarch::parso-0.7.0-py_0\n",
      "  pexpect            pkgs/main/linux-64::pexpect-4.8.0-py38_0\n",
      "  pickleshare        pkgs/main/linux-64::pickleshare-0.7.5-py38_1000\n",
      "  prompt-toolkit     pkgs/main/noarch::prompt-toolkit-3.0.8-py_0\n",
      "  ptyprocess         pkgs/main/linux-64::ptyprocess-0.6.0-py38_0\n",
      "  pygments           pkgs/main/noarch::pygments-2.7.1-py_0\n",
      "  python-dateutil    pkgs/main/noarch::python-dateutil-2.8.1-py_0\n",
      "  pyzmq              pkgs/main/linux-64::pyzmq-19.0.2-py38he6710b0_1\n",
      "  six                pkgs/main/noarch::six-1.15.0-py_0\n",
      "  tornado            pkgs/main/linux-64::tornado-6.0.4-py38h7b6447c_1\n",
      "  traitlets          pkgs/main/noarch::traitlets-5.0.5-py_0\n",
      "  wcwidth            pkgs/main/noarch::wcwidth-0.2.5-py_0\n",
      "  zeromq             pkgs/main/linux-64::zeromq-4.3.3-he6710b0_3\n",
      "\n",
      "\n",
      "Preparing transaction: done\n",
      "Verifying transaction: done\n",
      "Executing transaction: done\n",
      "Installed kernelspec EdConda in /home/edwardl/.local/share/jupyter/kernels/edconda\n"
     ]
    }
   ],
   "source": [
    "# create your new private conda environment and add it to your jupyterlab interface\n",
    "!source /opt/conda/bin/activate; conda create -y --name $conda_env python=3.8; conda activate $conda_env; conda install -y ipykernel; echo y | python -m ipykernel install --user --name $conda_env --display-name=\"$conda_env\""
   ]
  },
  {
   "cell_type": "markdown",
   "metadata": {},
   "source": [
    "### Remove your private Conda environment"
   ]
  },
  {
   "cell_type": "code",
   "execution_count": 4,
   "metadata": {},
   "outputs": [],
   "source": [
    "# define the name of your private conda environment\n",
    "conda_env = \"EdConda\"\n",
    "conda_env_lower = conda_env.lower()"
   ]
  },
  {
   "cell_type": "code",
   "execution_count": 5,
   "metadata": {},
   "outputs": [
    {
     "name": "stdout",
     "output_type": "stream",
     "text": [
      "Kernel specs to remove:\n",
      "  edconda             \t/home/edwardl/.local/share/jupyter/kernels/edconda\n",
      "Remove 1 kernel specs [y/N]: [RemoveKernelSpec] Removed /home/edwardl/.local/share/jupyter/kernels/edconda\n",
      "\n",
      "Remove all packages in environment /home/edwardl/.conda/envs/EdConda:\n",
      "\n"
     ]
    }
   ],
   "source": [
    "!echo y | jupyter kernelspec uninstall $conda_env_lower; source /opt/conda/bin/activate; conda env remove --name $conda_env"
   ]
  }
 ],
 "metadata": {
  "kernelspec": {
   "display_name": "Python 3",
   "language": "python",
   "name": "python3"
  },
  "language_info": {
   "codemirror_mode": {
    "name": "ipython",
    "version": 3
   },
   "file_extension": ".py",
   "mimetype": "text/x-python",
   "name": "python",
   "nbconvert_exporter": "python",
   "pygments_lexer": "ipython3",
   "version": "3.8.2"
  }
 },
 "nbformat": 4,
 "nbformat_minor": 4
}
