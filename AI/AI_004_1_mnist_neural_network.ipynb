{
 "cells": [
  {
   "cell_type": "markdown",
   "metadata": {},
   "source": [
    "# Neural Network (nn)\n",
    "\n",
    "[Edward Lu](https://github.com/edwardlu71/notebooks)\n",
    "\n",
    "### Neural Network with One Hidden Layer\n",
    "\n",
    "- input layer\n",
    "- linear layer\n",
    "- activation (ReLu)\n",
    "- full connection layer (linear)"
   ]
  },
  {
   "cell_type": "markdown",
   "metadata": {},
   "source": [
    "### About input\n",
    "\n",
    "input flattens data into 1 dimension array. i.e."
   ]
  },
  {
   "cell_type": "code",
   "execution_count": 7,
   "metadata": {},
   "outputs": [
    {
     "name": "stdout",
     "output_type": "stream",
     "text": [
      "(3, 3)\n",
      "[[0.52291537 0.15313264 0.42554073]\n",
      " [0.52667107 0.42158546 0.18859749]\n",
      " [0.74916014 0.71248759 0.84333359]]\n"
     ]
    }
   ],
   "source": [
    "import numpy as np\n",
    "\n",
    "# define a 3x3 random pixel dataset\n",
    "pic = np.random.random((3,3))\n",
    "print(pic.shape)\n",
    "print(pic)"
   ]
  },
  {
   "cell_type": "code",
   "execution_count": 2,
   "metadata": {},
   "outputs": [
    {
     "data": {
      "text/plain": [
       "array([[0.33439957, 0.17790202, 0.41344427],\n",
       "       [0.31390169, 0.9838339 , 0.76259498],\n",
       "       [0.96190486, 0.17268697, 0.27361627]])"
      ]
     },
     "execution_count": 2,
     "metadata": {},
     "output_type": "execute_result"
    }
   ],
   "source": [
    "pic.T"
   ]
  },
  {
   "cell_type": "code",
   "execution_count": 8,
   "metadata": {},
   "outputs": [
    {
     "name": "stdout",
     "output_type": "stream",
     "text": [
      "(9,)\n",
      "[0.52291537 0.15313264 0.42554073 0.52667107 0.42158546 0.18859749\n",
      " 0.74916014 0.71248759 0.84333359]\n"
     ]
    }
   ],
   "source": [
    "flatten_pic = pic.flatten()\n",
    "print(flatten_pic.shape)\n",
    "print(flatten_pic)"
   ]
  },
  {
   "cell_type": "code",
   "execution_count": 3,
   "metadata": {},
   "outputs": [
    {
     "name": "stdout",
     "output_type": "stream",
     "text": [
      "[[0.20310875]\n",
      " [0.45836374]\n",
      " [0.57879924]\n",
      " [0.3970125 ]\n",
      " [0.97272879]\n",
      " [0.06992504]\n",
      " [0.52767736]\n",
      " [0.5244745 ]\n",
      " [0.73478836]]\n"
     ]
    }
   ],
   "source": [
    "vertical = flatten_pic.reshape(9,1)\n",
    "print(vertical)"
   ]
  },
  {
   "cell_type": "code",
   "execution_count": 5,
   "metadata": {},
   "outputs": [
    {
     "data": {
      "text/plain": [
       "array([2.9923705])"
      ]
     },
     "execution_count": 5,
     "metadata": {},
     "output_type": "execute_result"
    }
   ],
   "source": [
    "flatten_pic @ vertical # dot"
   ]
  },
  {
   "cell_type": "markdown",
   "metadata": {},
   "source": [
    "## Standard example of handwritten digits recognition (MNIST)\n",
    "\n",
    "[example](https://towardsdatascience.com/image-classification-in-10-minutes-with-mnist-dataset-54c35b77a38d)"
   ]
  },
  {
   "cell_type": "code",
   "execution_count": 1,
   "metadata": {},
   "outputs": [],
   "source": [
    "%matplotlib inline\n",
    "import torch\n",
    "import torch.nn as nn\n",
    "import torchvision\n",
    "import torchvision.transforms as transforms\n",
    "import matplotlib.pyplot as plt\n",
    "import numpy as np\n",
    "from time import time, sleep\n",
    "import os\n",
    "from random import randint"
   ]
  },
  {
   "cell_type": "code",
   "execution_count": 2,
   "metadata": {},
   "outputs": [],
   "source": [
    "# Hyper-parameters\n",
    "#\n",
    "# 28x28 size pixel of an image for input\n",
    "input_size = 784\n",
    "# size of middle layers\n",
    "hidden_size = 500\n",
    "# output size, characters of 0-9\n",
    "num_classes = 10\n",
    "\n",
    "# training parameters\n",
    "num_epochs = 3\n",
    "batch_size = 100\n",
    "learning_rate = 0.001"
   ]
  },
  {
   "cell_type": "code",
   "execution_count": 3,
   "metadata": {},
   "outputs": [],
   "source": [
    "# data source\n",
    "#\n",
    "# load the data from MNIST dataset to local disk\n",
    "train_dataset = torchvision.datasets.MNIST(root='./data', train=True, transform=transforms.ToTensor(), download=True)\n",
    "test_dataset = torchvision.datasets.MNIST(root='./data', train=False, transform=transforms.ToTensor())\n",
    "# Data loader len(train_loader) = 600, so total 600x100 images\n",
    "train_loader = torch.utils.data.DataLoader(dataset=train_dataset, batch_size=batch_size, shuffle=True)\n",
    "test_loader = torch.utils.data.DataLoader(dataset=test_dataset, batch_size=batch_size, shuffle=False)"
   ]
  },
  {
   "cell_type": "code",
   "execution_count": 4,
   "metadata": {},
   "outputs": [
    {
     "data": {
      "text/plain": [
       "(torch.Size([60000, 28, 28]), torch.Size([10000, 28, 28]))"
      ]
     },
     "execution_count": 4,
     "metadata": {},
     "output_type": "execute_result"
    }
   ],
   "source": [
    "train_dataset.data.size(), test_dataset.data.size()"
   ]
  },
  {
   "cell_type": "code",
   "execution_count": 5,
   "metadata": {},
   "outputs": [],
   "source": [
    "data_iter = iter(test_loader)"
   ]
  },
  {
   "cell_type": "code",
   "execution_count": 10,
   "metadata": {},
   "outputs": [
    {
     "data": {
      "image/png": "[encoded data removed]",
      "text/plain": [
       "<Figure size 432x288 with 20 Axes>"
      ]
     },
     "metadata": {
      "needs_background": "light"
     },
     "output_type": "display_data"
    },
    {
     "name": "stdout",
     "output_type": "stream",
     "text": [
      "[6 0 5 4 9 9 2 1 9 4 8 7 3 9 7 4 4 4 9 2]\n"
     ]
    }
   ],
   "source": [
    "# example_data.size() = torch.Size([100, 1, 28, 28]). It's 4 dim data of 100 samples, 1 color, 28x28 pixels\n",
    "# example_data stores 100 samples of image data of 0-9 characters; example_targets stores the 100 actual characters of the images\n",
    "images, labels = data_iter.next()\n",
    "\n",
    "# debug: show the first 6 images\n",
    "for i in range(20):\n",
    "    plt.subplot(2, 10, i+1) # 2 x 5 subplots\n",
    "    plt.imshow(images[i][0], cmap='gray')\n",
    "plt.show()\n",
    "\n",
    "print(labels.numpy()[:20])\n"
   ]
  },
  {
   "cell_type": "markdown",
   "metadata": {},
   "source": [
    "## Define the model: input layer + activation + output layer"
   ]
  },
  {
   "cell_type": "code",
   "execution_count": 11,
   "metadata": {},
   "outputs": [],
   "source": [
    "# Fully connected neural network with one hidden layer\n",
    "class NeuralNet(nn.Module):\n",
    "    def __init__(self, input_size, hidden_size, num_classes):\n",
    "        super(NeuralNet, self).__init__()\n",
    "        self.input_size = input_size\n",
    "        self.l1 = nn.Linear(input_size, hidden_size)\n",
    "        # activation\n",
    "        self.relu = nn.ReLU()\n",
    "        # full connection layer\n",
    "        self.l2 = nn.Linear(hidden_size, num_classes)\n",
    "\n",
    "    def forward(self, x):\n",
    "        out = self.l1(x)\n",
    "        out = self.relu(out)\n",
    "        out1 = self.l2(out)\n",
    "        # no activation and no softmax at the end\n",
    "        return out1, out"
   ]
  },
  {
   "cell_type": "code",
   "execution_count": 12,
   "metadata": {},
   "outputs": [
    {
     "name": "stdout",
     "output_type": "stream",
     "text": [
      "NeuralNet(\n",
      "  (l1): Linear(in_features=784, out_features=500, bias=True)\n",
      "  (relu): ReLU()\n",
      "  (l2): Linear(in_features=500, out_features=10, bias=True)\n",
      ")\n"
     ]
    }
   ],
   "source": [
    "model = NeuralNet(input_size, hidden_size, num_classes)\n",
    "print(model)"
   ]
  },
  {
   "cell_type": "markdown",
   "metadata": {},
   "source": [
    "### Training\n",
    "\n",
    "- trained model is saved in file ./mnist"
   ]
  },
  {
   "cell_type": "code",
   "execution_count": 14,
   "metadata": {},
   "outputs": [
    {
     "name": "stdout",
     "output_type": "stream",
     "text": [
      "Epoch [1/3], Step [0/600], Loss: 2.3088\n",
      "Epoch [1/3], Step [100/600], Loss: 0.4088\n",
      "Epoch [1/3], Step [200/600], Loss: 0.1779\n",
      "Epoch [1/3], Step [300/600], Loss: 0.2648\n",
      "Epoch [1/3], Step [400/600], Loss: 0.3057\n",
      "Epoch [1/3], Step [500/600], Loss: 0.2394\n",
      "Epoch [2/3], Step [0/600], Loss: 0.1784\n",
      "Epoch [2/3], Step [100/600], Loss: 0.2349\n",
      "Epoch [2/3], Step [200/600], Loss: 0.1229\n",
      "Epoch [2/3], Step [300/600], Loss: 0.1493\n",
      "Epoch [2/3], Step [400/600], Loss: 0.0912\n",
      "Epoch [2/3], Step [500/600], Loss: 0.0779\n",
      "Epoch [3/3], Step [0/600], Loss: 0.0362\n",
      "Epoch [3/3], Step [100/600], Loss: 0.0769\n",
      "Epoch [3/3], Step [200/600], Loss: 0.0460\n",
      "Epoch [3/3], Step [300/600], Loss: 0.0695\n",
      "Epoch [3/3], Step [400/600], Loss: 0.1396\n",
      "Epoch [3/3], Step [500/600], Loss: 0.1012\n"
     ]
    }
   ],
   "source": [
    "torch.manual_seed(int(time()))\n",
    "device = torch.device('cpu')\n",
    "\n",
    "if os.path.isfile(\"./mnist\"):\n",
    "    model = torch.load(\"./mnist\", map_location=lambda storage, loc: storage)\n",
    "    model.eval()\n",
    "else:\n",
    "    model = NeuralNet(input_size, hidden_size, num_classes).to(device)\n",
    "\n",
    "    # define Loss function and choose optimizer\n",
    "    criterion = nn.CrossEntropyLoss()\n",
    "    optimizer = torch.optim.Adam(model.parameters(), lr=learning_rate)\n",
    "\n",
    "    # Train the model\n",
    "    n_total_steps = len(train_loader)\n",
    "    for epoch in range(num_epochs):\n",
    "        for i, (images, labels) in enumerate(train_loader):\n",
    "            # loop 600 times, each time with 100 images + labels in a batch.\n",
    "            #\n",
    "            # images origin shape: [100, 1, 28, 28]\n",
    "            # resized: [100, 784] = images is a 100 size batch each with 784 inputs for one image\n",
    "            # input is flattened to one dimension arry of size 28*28 = 784, with 100 sample in one batch\n",
    "            images = images.reshape(-1, 28*28).to(device)\n",
    "            labels = labels.to(device)\n",
    "\n",
    "            # Forward pass\n",
    "            #\n",
    "            # outputs with shape [100, 10] for the result of 100 size batch, each with output of possibility on 0-9 charactors\n",
    "            outputs, last_layer = model(images)\n",
    "            # how likely the predicted in output matches real characters in labels. loss is only one figure as result of a 100 size batch training\n",
    "            loss = criterion(outputs, labels)\n",
    "\n",
    "            # Backward and optimize\n",
    "            #\n",
    "            # cleanup the history first\n",
    "            optimizer.zero_grad()\n",
    "            # dLoss/dWeights\n",
    "            loss.backward()\n",
    "            # adjust weights from dLoss/dWeights\n",
    "            optimizer.step()\n",
    "\n",
    "            if i % 100 == 0:\n",
    "                print (f'Epoch [{epoch+1}/{num_epochs}], Step [{i}/{n_total_steps}], Loss: {loss.item():.4f}')\n",
    "\n",
    "    torch.save(model, \"mnist\")"
   ]
  },
  {
   "cell_type": "code",
   "execution_count": 15,
   "metadata": {},
   "outputs": [
    {
     "name": "stdout",
     "output_type": "stream",
     "text": [
      "Accuracy of the network on the 10000 test images: 97.55 %\n"
     ]
    }
   ],
   "source": [
    "# Test the model\n",
    "# In test phase, we don't need to compute gradients (for memory efficiency)\n",
    "with torch.no_grad():\n",
    "    n_correct = 0\n",
    "    n_samples = 0\n",
    "    for images, labels in test_loader:\n",
    "        images = images.reshape(-1, 28*28).to(device)\n",
    "        labels = labels.to(device)\n",
    "        outputs, last_layer = model(images)\n",
    "        # max returns (value ,index)\n",
    "        _, predicted = torch.max(outputs.data, 1)\n",
    "        n_samples += labels.size(0)\n",
    "        n_correct += (predicted == labels).sum().item()\n",
    "\n",
    "    acc = 100.0 * n_correct / n_samples\n",
    "    print(f'Accuracy of the network on the 10000 test images: {acc} %')"
   ]
  },
  {
   "cell_type": "code",
   "execution_count": 20,
   "metadata": {},
   "outputs": [
    {
     "name": "stdout",
     "output_type": "stream",
     "text": [
      "label=2 predicted 2\n"
     ]
    },
    {
     "data": {
      "image/png": "[encoded data removed]",
      "text/plain": [
       "<Figure size 432x288 with 1 Axes>"
      ]
     },
     "metadata": {
      "needs_background": "light"
     },
     "output_type": "display_data"
    }
   ],
   "source": [
    "with torch.no_grad():\n",
    "    # region debug\n",
    "    data_iter = iter(test_loader)\n",
    "    images, labels = data_iter.next()\n",
    "\n",
    "    images = images.reshape(-1, 28 * 28).to(device)\n",
    "    labels = labels.to(device)\n",
    "    outputs, last_layer = model(images)\n",
    "    # max returns (value ,index)\n",
    "    _, predicted = torch.max(outputs.data, 1)\n",
    "\n",
    "    images = images.reshape(-1, 28, 28).to(device)\n",
    "    labels_np = labels.numpy()\n",
    "    predicted_np = predicted.numpy()\n",
    "\n",
    "    k = randint(0, 100)\n",
    "    print(f\"label={labels_np[k]} predicted {predicted_np[k]}\")\n",
    "    plt.imshow(images[k], cmap='gray')\n",
    "    plt.show()\n",
    "    # endregion"
   ]
  },
  {
   "cell_type": "code",
   "execution_count": 18,
   "metadata": {},
   "outputs": [
    {
     "name": "stdout",
     "output_type": "stream",
     "text": [
      "tensor([7, 2, 1, 0, 4, 1, 4, 9, 5, 9, 0, 6, 9, 0, 1, 5, 9, 7, 3, 4, 9, 6, 6, 5,\n",
      "        4, 0, 7, 4, 0, 1, 3, 1, 3, 4, 7, 2, 7, 1, 2, 1, 1, 7, 4, 2, 3, 5, 1, 2,\n",
      "        4, 4, 6, 3, 5, 5, 6, 0, 4, 1, 9, 5, 7, 8, 9, 3, 7, 4, 6, 4, 3, 0, 7, 0,\n",
      "        2, 9, 1, 7, 3, 2, 9, 7, 7, 6, 2, 7, 8, 4, 7, 3, 6, 1, 3, 6, 9, 3, 1, 4,\n",
      "        1, 7, 6, 9])\n",
      "tensor([7, 2, 1, 0, 4, 1, 4, 9, 5, 9, 0, 6, 9, 0, 1, 5, 9, 7, 3, 4, 9, 6, 6, 5,\n",
      "        4, 0, 7, 4, 0, 1, 3, 1, 3, 4, 7, 2, 7, 1, 2, 1, 1, 7, 4, 2, 3, 5, 1, 2,\n",
      "        4, 4, 6, 3, 5, 5, 6, 0, 4, 1, 9, 5, 7, 8, 9, 3, 7, 4, 6, 4, 3, 0, 7, 0,\n",
      "        2, 9, 1, 7, 3, 2, 9, 7, 7, 6, 2, 7, 8, 4, 7, 3, 6, 1, 3, 6, 9, 3, 1, 4,\n",
      "        1, 7, 6, 9])\n"
     ]
    }
   ],
   "source": [
    "print(predicted)\n",
    "print(labels)"
   ]
  },
  {
   "cell_type": "markdown",
   "metadata": {},
   "source": [
    "## How does computer classify the pictures"
   ]
  },
  {
   "cell_type": "code",
   "execution_count": 22,
   "metadata": {},
   "outputs": [
    {
     "data": {
      "image/png": "[encoded data removed]",
      "text/plain": [
       "<Figure size 576x576 with 1 Axes>"
      ]
     },
     "metadata": {
      "needs_background": "light"
     },
     "output_type": "display_data"
    }
   ],
   "source": [
    "# following function (plot_with_labels) is for visualization, can be ignored if not interested\n",
    "from matplotlib import cm\n",
    "from sklearn.manifold import TSNE\n",
    "def plot_with_labels(lowDWeights, labels):\n",
    "    plt.cla()\n",
    "    X, Y = lowDWeights[:, 0], lowDWeights[:, 1]\n",
    "    for x, y, s in zip(X, Y, labels):\n",
    "        c = cm.rainbow(int(255 * s / 9)); plt.text(x, y, s, backgroundcolor=c, fontsize=9)\n",
    "    plt.xlim(X.min(), X.max()); plt.ylim(Y.min(), Y.max()); plt.title('Visualize last layer'); plt.show(); plt.pause(0.01)\n",
    "\n",
    "tsne = TSNE(perplexity=30, n_components=2, init='pca', n_iter=5000)\n",
    "plot_only = 500\n",
    "low_dim_embs = tsne.fit_transform(last_layer.data.numpy()[:plot_only, :])   # last_layer from the model output\n",
    "labels1 = labels.numpy()[:plot_only]                                         # what them represent\n",
    "\n",
    "fig = plt.figure()\n",
    "fig.set_figheight(8)\n",
    "fig.set_figwidth(8)\n",
    "plot_with_labels(low_dim_embs, labels1)\n",
    "plt.ioff()"
   ]
  },
  {
   "cell_type": "code",
   "execution_count": null,
   "metadata": {},
   "outputs": [],
   "source": []
  }
 ],
 "metadata": {
  "kernelspec": {
   "display_name": "Python 3",
   "language": "python",
   "name": "python3"
  },
  "language_info": {
   "codemirror_mode": {
    "name": "ipython",
    "version": 3
   },
   "file_extension": ".py",
   "mimetype": "text/x-python",
   "name": "python",
   "nbconvert_exporter": "python",
   "pygments_lexer": "ipython3",
   "version": "3.8.2"
  }
 },
 "nbformat": 4,
 "nbformat_minor": 2
}
