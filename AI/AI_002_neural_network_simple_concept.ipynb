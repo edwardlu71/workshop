{
 "cells": [
  {
   "cell_type": "markdown",
   "metadata": {},
   "source": [
    "# Neural Network (nn)\n",
    "\n",
    "[Edward Lu](https://github.com/edwardlu71/notebooks)\n",
    "\n",
    "### simple explanation of the concept of neural network\n",
    "\n",
    "#### Supervised Learning\n",
    "the machine learning task of learning a function that maps an input to a desired output based on example input-output pairs.\n",
    "\n",
    " - no hidden layer\n",
    " - no torch or tensorflow\n",
    " - with known backward propagation function"
   ]
  },
  {
   "attachments": {
    "image.png": {
     "image/png": "[encoded data removed]"
    }
   },
   "cell_type": "markdown",
   "metadata": {},
   "source": [
    "## Solve the problem with machine learning method\n",
    "\n",
    "![image.png](attachment:image.png)"
   ]
  },
  {
   "cell_type": "code",
   "execution_count": 1,
   "metadata": {},
   "outputs": [],
   "source": [
    "import numpy as np"
   ]
  },
  {
   "cell_type": "markdown",
   "metadata": {},
   "source": [
    "### sigmoid function and its derivative\n",
    "\n",
    "$$  \\begin{align} f(x) & = \\frac{1}{1+e^{-x}} \\tag{1} \\\\\n",
    "    f'(x) & = \\frac{e^{-x}}{(1+e^{-x})^2} = f*(1-f) \\end{align} \\tag{2} $$"
   ]
  },
  {
   "cell_type": "code",
   "execution_count": 2,
   "metadata": {},
   "outputs": [],
   "source": [
    "def sigmoid(x):\n",
    "    return 1 / (1 + np.exp(-x))\n",
    "\n",
    "def sigmoid_derivative(y):\n",
    "    return y * (1 - y)"
   ]
  },
  {
   "cell_type": "markdown",
   "metadata": {},
   "source": [
    "### training inputs"
   ]
  },
  {
   "cell_type": "code",
   "execution_count": 8,
   "metadata": {},
   "outputs": [
    {
     "name": "stdout",
     "output_type": "stream",
     "text": [
      "training_inputs = (4, 3)\n"
     ]
    },
    {
     "data": {
      "text/plain": [
       "array([[0, 0, 1],\n",
       "       [1, 1, 1],\n",
       "       [1, 0, 1],\n",
       "       [0, 1, 1]])"
      ]
     },
     "execution_count": 8,
     "metadata": {},
     "output_type": "execute_result"
    }
   ],
   "source": [
    "training_inputs = np.array([[0, 0, 1], [1, 1, 1], [1, 0, 1], [0, 1, 1]])\n",
    "print(f\"training_inputs = {training_inputs.shape}\")\n",
    "training_inputs"
   ]
  },
  {
   "cell_type": "markdown",
   "metadata": {},
   "source": [
    "### training outputs"
   ]
  },
  {
   "cell_type": "code",
   "execution_count": 9,
   "metadata": {},
   "outputs": [
    {
     "name": "stdout",
     "output_type": "stream",
     "text": [
      "training_outputs = (4, 1)\n"
     ]
    },
    {
     "data": {
      "text/plain": [
       "array([[0],\n",
       "       [1],\n",
       "       [1],\n",
       "       [0]])"
      ]
     },
     "execution_count": 9,
     "metadata": {},
     "output_type": "execute_result"
    }
   ],
   "source": [
    "training_outputs = np.array([[0, 1, 1, 0]]).T\n",
    "print(f\"training_outputs = {training_outputs.shape}\")\n",
    "training_outputs"
   ]
  },
  {
   "cell_type": "markdown",
   "metadata": {},
   "source": [
    "### initial random weights"
   ]
  },
  {
   "cell_type": "code",
   "execution_count": 10,
   "metadata": {},
   "outputs": [
    {
     "name": "stdout",
     "output_type": "stream",
     "text": [
      "weights = (3, 1)\n"
     ]
    },
    {
     "data": {
      "text/plain": [
       "array([[-0.62884945],\n",
       "       [-0.22680139],\n",
       "       [ 0.6637924 ]])"
      ]
     },
     "execution_count": 10,
     "metadata": {},
     "output_type": "execute_result"
    }
   ],
   "source": [
    "np.random.seed(71)\n",
    "weights = 2 * np.random.random((3, 1)) - 1  # random numbers between -1 and 1\n",
    "print(f\"weights = {weights.shape}\")\n",
    "weights"
   ]
  },
  {
   "cell_type": "markdown",
   "metadata": {},
   "source": [
    "### training loop of epoches"
   ]
  },
  {
   "cell_type": "code",
   "execution_count": 11,
   "metadata": {
    "scrolled": false
   },
   "outputs": [],
   "source": [
    "epoch_num = 100000\n",
    "for iteration in range(epoch_num):\n",
    "    # input\n",
    "    input_layer = training_inputs\n",
    "\n",
    "    # forward\n",
    "    outputs = sigmoid(np.dot(input_layer, weights))\n",
    "\n",
    "    # loss = y_hat - y\n",
    "    errors = training_outputs - outputs\n",
    "\n",
    "    # backward propagation :\n",
    "    #     adjustment delta = error * derivative of normalised outputs (formally dLoss/dWeight)\n",
    "    adjustments = errors * sigmoid_derivative(outputs)\n",
    "    weights += np.dot(input_layer.T, adjustments)"
   ]
  },
  {
   "cell_type": "code",
   "execution_count": 12,
   "metadata": {},
   "outputs": [
    {
     "data": {
      "text/plain": [
       "array([[0.00301781],\n",
       "       [0.99753709],\n",
       "       [0.99799168],\n",
       "       [0.00246105]])"
      ]
     },
     "execution_count": 12,
     "metadata": {},
     "output_type": "execute_result"
    }
   ],
   "source": [
    "outputs = sigmoid(np.dot(training_inputs, weights))\n",
    "outputs"
   ]
  },
  {
   "cell_type": "code",
   "execution_count": 13,
   "metadata": {},
   "outputs": [
    {
     "name": "stdout",
     "output_type": "stream",
     "text": [
      "output for input [1, 0, 0] is [0.99999391]\n"
     ]
    }
   ],
   "source": [
    "# if input is [1, 0, 0], what's the output?\n",
    "\n",
    "answer = sigmoid(np.dot(np.array([1, 0, 0]), weights))\n",
    "print(f\"output for input [1, 0, 0] is {answer}\")"
   ]
  },
  {
   "cell_type": "markdown",
   "metadata": {},
   "source": [
    "## formal format"
   ]
  },
  {
   "cell_type": "code",
   "execution_count": 12,
   "metadata": {},
   "outputs": [
    {
     "name": "stdout",
     "output_type": "stream",
     "text": [
      "weights = (3, 1)\n",
      "[-0.62884945]\n",
      "[-0.22680139]\n",
      "[0.6637924]\n",
      "training_inputs = (4, 3)\n",
      "[0 0 1]\n",
      "[1 1 1]\n",
      "[1 0 1]\n",
      "[0 1 1]\n",
      "training_outputs = (4, 1)\n",
      "[0]\n",
      "[1]\n",
      "[1]\n",
      "[0]\n",
      "weights after training = \n",
      "[14.32159732]\n",
      "[-0.20327748]\n",
      "[-6.95763613]\n",
      "output for input [1, 0, 0] is [0.9999994]\n"
     ]
    }
   ],
   "source": [
    "#!/usr/bin/env python\n",
    "\n",
    "# a very simple explanation of the concept of neural network\n",
    "# - no hidden layer\n",
    "# - no torch\n",
    "\n",
    "import numpy as np\n",
    "\n",
    "\n",
    "class NeuralNetwork():\n",
    "    def __init__(self):\n",
    "        np.random.seed(71)\n",
    "        self.weights = 2 * np.random.random((3, 1)) - 1  # random numbers between -1 and 1\n",
    "        print(f\"weights = {self.weights.shape}\")\n",
    "        [print(row) for row in self.weights]\n",
    "\n",
    "    def sigmoid(self, x):\n",
    "        return 1 / (1 + np.exp(-x))\n",
    "\n",
    "    def sigmoid_derivative(self, x):\n",
    "        return x * (1 - x)\n",
    "\n",
    "    def train(self, training_inputs, training_outputs, training_iterations):\n",
    "        for iteration in range(training_iterations):\n",
    "            # forward\n",
    "            outputs = self.think(training_inputs)\n",
    "\n",
    "            # loss = y_hat - y\n",
    "            errors = training_outputs - outputs\n",
    "\n",
    "            # backward propagation :\n",
    "            #     adjustment delta = error * derivative of normalised outputs (formally dLoss/dWeight)\n",
    "            adjustments = np.dot(training_inputs.T, errors * self.sigmoid_derivative(outputs))\n",
    "            self.weights += adjustments\n",
    "\n",
    "    def think(self, inputs):\n",
    "        inputs = inputs.astype(float)\n",
    "        outputs = self.sigmoid(np.dot(inputs, self.weights))\n",
    "        return outputs\n",
    "\n",
    "\n",
    "def main():\n",
    "    neural_network = NeuralNetwork()\n",
    "\n",
    "    training_inputs = np.array([[0, 0, 1], [1, 1, 1], [1, 0, 1], [0, 1, 1]])\n",
    "    print(f\"training_inputs = {training_inputs.shape}\")\n",
    "    [print(row) for row in training_inputs]\n",
    "\n",
    "    training_outputs = np.array([[0, 1, 1, 0]]).T\n",
    "    print(f\"training_outputs = {training_outputs.shape}\")\n",
    "    [print(row) for row in training_outputs]\n",
    "\n",
    "    neural_network.train(training_inputs, training_outputs, 1000000)\n",
    "\n",
    "    print(f\"weights after training = \")\n",
    "    [print(row) for row in neural_network.weights]\n",
    "\n",
    "    # if input is [1, 0, 0], what's the output?\n",
    "    answer = neural_network.sigmoid(np.dot(np.array([1, 0, 0]), neural_network.weights))\n",
    "    print(f\"output for input [1, 0, 0] is {answer}\")\n",
    "\n",
    "if __name__ == \"__main__\":\n",
    "    main()\n",
    "\n"
   ]
  }
 ],
 "metadata": {
  "kernelspec": {
   "display_name": "Python 3",
   "language": "python",
   "name": "python3"
  },
  "language_info": {
   "codemirror_mode": {
    "name": "ipython",
    "version": 3
   },
   "file_extension": ".py",
   "mimetype": "text/x-python",
   "name": "python",
   "nbconvert_exporter": "python",
   "pygments_lexer": "ipython3",
   "version": "3.6.9"
  }
 },
 "nbformat": 4,
 "nbformat_minor": 2
}
